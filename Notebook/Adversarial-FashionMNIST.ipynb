{
 "cells": [
  {
   "cell_type": "markdown",
   "metadata": {},
   "source": [
    "# Crafting adversarial examples for the fashion MNIST dataset\n",
    "        Eritz Yerga Gutierrez\n",
    "***\n",
    "The goal of this project is to implement one or more approaches to create adversarial examples for the [fashion MNIST](https://github.com/zalandoresearch/fashion-mnist) dataset. "
   ]
  },
  {
   "cell_type": "markdown",
   "metadata": {},
   "source": [
    "## 1. Importing the libraries and dataset\n",
    "To run this notebook the following libraries must be installed:\n",
    "* Numpy\n",
    "* Matplotlib\n",
    "* [Tensorflow](https://www.tensorflow.org)\n",
    "* [Tensorflow-Adversarial](https://github.com/gongzhitaao/tensorflow-adversarial)\n",
    "\n",
    "Numpy, Matplotlib and Tensorflow can be installed trough pip. \n",
    "\n",
    "However, Tensorflow-Adversarial **must be installed manually**, copy \"fast_gradient.py\", \"saliency_map.py\" and \"deepfool.py\" from the [\"attacks\" folder](https://github.com/gongzhitaao/tensorflow-adversarial/tree/master/attacks) to the same folder this notebook is located or IT WILL NOT WORK.\n",
    "\n",
    "The [fashion MNIST](https://github.com/zalandoresearch/fashion-mnist) dataset must be downloaded from [these links](https://github.com/zalandoresearch/fashion-mnist#get-the-data) and those files must be placed in the \"data/fashion\" directory, otherwise tensorflow will load the original MNIST."
   ]
  },
  {
   "cell_type": "markdown",
   "metadata": {},
   "source": [
    "Now we can import the neeeded libraries:"
   ]
  },
  {
   "cell_type": "code",
   "execution_count": 1,
   "metadata": {},
   "outputs": [],
   "source": [
    "import itertools \n",
    "import os\n",
    "import sys\n",
    "\n",
    "import numpy as np\n",
    "import matplotlib.pyplot as plt\n",
    "import tensorflow as tf\n",
    "from tensorflow.examples.tutorials.mnist import input_data\n",
    "\n",
    "import fast_gradient as fg\n",
    "import saliency_map as sm\n",
    "import deepfool as df"
   ]
  },
  {
   "cell_type": "markdown",
   "metadata": {},
   "source": [
    "Import the dataset:"
   ]
  },
  {
   "cell_type": "code",
   "execution_count": 2,
   "metadata": {},
   "outputs": [],
   "source": [
    "# We define the characteristics of the input image \n",
    "height = 28\n",
    "width = 28\n",
    "channels = 1\n",
    "input_shape = (width, height, channels)\n",
    "n_inputs = height * width\n",
    "n_classes = 10"
   ]
  },
  {
   "cell_type": "code",
   "execution_count": 3,
   "metadata": {},
   "outputs": [
    {
     "name": "stdout",
     "output_type": "stream",
     "text": [
      "Extracting data/fashion\\train-images-idx3-ubyte.gz\n",
      "Extracting data/fashion\\train-labels-idx1-ubyte.gz\n",
      "Extracting data/fashion\\t10k-images-idx3-ubyte.gz\n",
      "Extracting data/fashion\\t10k-labels-idx1-ubyte.gz\n"
     ]
    }
   ],
   "source": [
    "data = input_data.read_data_sets('data/fashion', one_hot=True)\n",
    "\n",
    "# Define train and test sets\n",
    "X_train = data.train.images\n",
    "X_test = data.test.images\n",
    "y_train = data.train.labels.astype(\"int\")\n",
    "y_test = data.test.labels.astype(\"int\")\n",
    "\n",
    "X_train = X_train.astype('float32') / 255.\n",
    "X_test = X_test.astype('float32') / 255.\n",
    "\n",
    "X_train = X_train.reshape(-1, width, height, channels)\n",
    "X_test = X_test.reshape(-1, width, height, channels)\n",
    "\n",
    "def get_start_end(ind, batch_size, n_sample):\n",
    "    start = ind*batch_size\n",
    "    end = min(n_sample, start+batch_size)\n",
    "    return start, end"
   ]
  },
  {
   "cell_type": "markdown",
   "metadata": {},
   "source": [
    "And create a dictionary with the definition of the dataset to have readable classes:"
   ]
  },
  {
   "cell_type": "code",
   "execution_count": 4,
   "metadata": {},
   "outputs": [],
   "source": [
    "# Create dictionary of target classes\n",
    "label_dict = {\n",
    " 0: 'T-shirt/top',\n",
    " 1: 'Trouser',\n",
    " 2: 'Pullover',\n",
    " 3: 'Dress',\n",
    " 4: 'Coat',\n",
    " 5: 'Sandal',\n",
    " 6: 'Shirt',\n",
    " 7: 'Sneaker',\n",
    " 8: 'Bag',\n",
    " 9: 'Ankle boot'\n",
    "}"
   ]
  },
  {
   "cell_type": "markdown",
   "metadata": {},
   "source": [
    "With this cell we can check some samples to see if the dataset loaded correctly:"
   ]
  },
  {
   "cell_type": "code",
   "execution_count": 5,
   "metadata": {},
   "outputs": [
    {
     "name": "stdout",
     "output_type": "stream",
     "text": [
      "Train samples:\n",
      "y = 3 [ 0.  0.  0.  1.  0.  0.  0.  0.  0.  0.] (Dress)\n"
     ]
    },
    {
     "data": {
      "image/png": "[encoded data removed]",
      "text/plain": [
       "<matplotlib.figure.Figure at 0x1b8a4468080>"
      ]
     },
     "metadata": {},
     "output_type": "display_data"
    },
    {
     "name": "stdout",
     "output_type": "stream",
     "text": [
      "y = 7 [ 0.  0.  0.  0.  0.  0.  0.  1.  0.  0.] (Sneaker)\n"
     ]
    },
    {
     "data": {
      "image/png": "[encoded data removed]",
      "text/plain": [
       "<matplotlib.figure.Figure at 0x1b8a6703828>"
      ]
     },
     "metadata": {},
     "output_type": "display_data"
    },
    {
     "name": "stdout",
     "output_type": "stream",
     "text": [
      "Test samples:\n",
      "y = 4 [ 0.  0.  0.  0.  1.  0.  0.  0.  0.  0.] (Coat)\n"
     ]
    },
    {
     "data": {
      "image/png": "[encoded data removed]",
      "text/plain": [
       "<matplotlib.figure.Figure at 0x1b8a681cef0>"
      ]
     },
     "metadata": {},
     "output_type": "display_data"
    },
    {
     "name": "stdout",
     "output_type": "stream",
     "text": [
      "y = 8 [ 0.  0.  0.  0.  0.  0.  0.  0.  1.  0.] (Bag)\n"
     ]
    },
    {
     "data": {
      "image/png": "[encoded data removed]",
      "text/plain": [
       "<matplotlib.figure.Figure at 0x1b8a68bd908>"
      ]
     },
     "metadata": {},
     "output_type": "display_data"
    }
   ],
   "source": [
    "# Select samples to view\n",
    "samples_train = [47, 23]\n",
    "samples_test = [14, 18]\n",
    "\n",
    "# Plot samples\n",
    "print(\"Train samples:\")\n",
    "for s in samples_train:\n",
    "    sample = data.train.images[s].reshape(28,28)\n",
    "    sample_label = data.train.labels[s]\n",
    "    print(\"y = {label_index} {label_vec} ({label})\".format(label_index=np.argmax(sample_label, axis=0), label_vec=sample_label, label=label_dict[np.argmax(sample_label, axis=0)]))\n",
    "    plt.imshow(sample, cmap='Greys')\n",
    "    plt.show()\n",
    "print(\"Test samples:\")\n",
    "for s in samples_test:\n",
    "    sample = data.test.images[s].reshape(28,28)\n",
    "    sample_label = data.test.labels[s]\n",
    "    print(\"y = {label_index} {label_vec} ({label})\".format(label_index=np.argmax(sample_label, axis=0), label_vec=sample_label, label=label_dict[np.argmax(sample_label, axis=0)]))\n",
    "    plt.imshow(sample, cmap='Greys')\n",
    "    plt.show()"
   ]
  },
  {
   "cell_type": "markdown",
   "metadata": {},
   "source": [
    "## 2. Defining the model"
   ]
  },
  {
   "cell_type": "markdown",
   "metadata": {},
   "source": [
    "Here you can chose if you want to use a GPU (**needs a GPU with more than 4GB of memory!**) or use the CPU:"
   ]
  },
  {
   "cell_type": "code",
   "execution_count": 28,
   "metadata": {},
   "outputs": [],
   "source": [
    "# Set to True if you want to use a GPU for computing\n",
    "UseGPU = False"
   ]
  },
  {
   "cell_type": "code",
   "execution_count": 29,
   "metadata": {},
   "outputs": [],
   "source": [
    "if UseGPU:\n",
    "    config = tf.ConfigProto(device_count = {'GPU': 1})\n",
    "else:\n",
    "    config = tf.ConfigProto(device_count = {'GPU': 0})"
   ]
  },
  {
   "cell_type": "markdown",
   "metadata": {},
   "source": [
    "### The model:\n",
    "A Convolutional Neural Network (Deep Learning) was chosen with the following layers:\n",
    "* conv1: Convolutional layer\n",
    "* pool1: Max-pooling layer\n",
    "* conv2: Convolutional layer\n",
    "* pool2: Max-pooling layer\n",
    "* dense1: Full layer with 128 units (with dropout)\n",
    "* dense2: Full layer with 64 units (with dropout)\n",
    "\n",
    "Softmax function as the output function."
   ]
  },
  {
   "cell_type": "code",
   "execution_count": 30,
   "metadata": {},
   "outputs": [],
   "source": [
    "def model(x, logits=False, training=False):\n",
    "    conv1 = tf.layers.conv2d(x, filters=32, kernel_size=[3, 3], padding='SAME', name='conv1', activation=tf.nn.relu)\n",
    "    pool1 = tf.layers.max_pooling2d(conv1, pool_size=[2, 2], strides=2, name='pool1')\n",
    "    \n",
    "    conv2 = tf.layers.conv2d(pool1, filters=64, kernel_size=[3, 3], padding='SAME', name='conv2', activation=tf.nn.relu)\n",
    "    pool2 = tf.layers.max_pooling2d(conv2, pool_size=[2, 2], strides=2, name='pool2')\n",
    "    \n",
    "    flat = tf.reshape(pool2, [-1, 7*7*64], name='flatten')\n",
    "    \n",
    "    dense1 = tf.layers.dense(flat, units=128, activation=tf.nn.relu, name='dense1')\n",
    "    dropout1 = tf.layers.dropout(dense1, rate=0.25, training=training, name='dropout1')\n",
    "    dense2 = tf.layers.dense(dropout1, units=64, activation=tf.nn.relu, name='dense2')\n",
    "    dropout2 = tf.layers.dropout(dense2, rate=0.30, training=training, name='dropout2')\n",
    "    \n",
    "    logits_ = tf.layers.dense(dropout2, units=10, name='logits')\n",
    "    y = tf.nn.softmax(logits_, name='ybar')\n",
    "    \n",
    "    if logits:\n",
    "        return y, logits_\n",
    "    return y"
   ]
  },
  {
   "cell_type": "markdown",
   "metadata": {},
   "source": [
    "Now we define our TensorFlow graph and define the input placeholders, the outputs, the optimizer, the saver..."
   ]
  },
  {
   "cell_type": "code",
   "execution_count": 31,
   "metadata": {},
   "outputs": [],
   "source": [
    "tf.reset_default_graph()\n",
    "class Dummy:\n",
    "    pass\n",
    "env = Dummy()\n",
    "\n",
    "with tf.variable_scope('model'):\n",
    "    env.x = tf.placeholder(tf.float32, (None, width, height, channels), name='x')\n",
    "    env.y = tf.placeholder(tf.int32, (None, n_classes), name='y')\n",
    "    env.training = tf.placeholder(bool, (), name='mode')\n",
    "\n",
    "    env.ybar, logits = model(env.x, logits=True, training=env.training)\n",
    "\n",
    "    truez = tf.argmax(env.y, axis=1)\n",
    "    predictedz = tf.argmax(env.ybar, axis=1)\n",
    "    \n",
    "    count = tf.cast(tf.equal(truez, predictedz), tf.float32)\n",
    "    env.acc = tf.reduce_mean(count, name='acc')\n",
    "    xent = tf.nn.softmax_cross_entropy_with_logits(labels=env.y, logits=logits)\n",
    "    env.loss = tf.reduce_mean(xent, name='loss')\n",
    "    \n",
    "    with tf.name_scope(\"eval\"):\n",
    "        accuracy = tf.reduce_mean(tf.cast(count, tf.float32))\n",
    "        \n",
    "    with tf.name_scope(\"save\"):\n",
    "        saver = tf.train.Saver()\n",
    "    \n",
    "env.optimizer = tf.train.AdamOptimizer().minimize(env.loss)"
   ]
  },
  {
   "cell_type": "markdown",
   "metadata": {},
   "source": [
    "### The adversarial attacking operations:\n",
    "We will also define the operations we will later run to generate the adversarial examples."
   ]
  },
  {
   "cell_type": "code",
   "execution_count": 32,
   "metadata": {},
   "outputs": [],
   "source": [
    "with tf.variable_scope('model', reuse=True):\n",
    "    env.adv_fgm = fg.fgm(model, env.x)\n",
    "    env.adv_jsma_t0 = sm.jsma(model, env.x, 0)\n",
    "    env.adv_jsma_t1 = sm.jsma(model, env.x, 1)\n",
    "    env.adv_jsma_t2 = sm.jsma(model, env.x, 2)\n",
    "    env.adv_jsma_t3 = sm.jsma(model, env.x, 3)\n",
    "    env.adv_jsma_t4 = sm.jsma(model, env.x, 4)\n",
    "    env.adv_jsma_t5 = sm.jsma(model, env.x, 5)\n",
    "    env.adv_jsma_t6 = sm.jsma(model, env.x, 6)\n",
    "    env.adv_jsma_t7 = sm.jsma(model, env.x, 7)\n",
    "    env.adv_jsma_t8 = sm.jsma(model, env.x, 8)\n",
    "    env.adv_jsma_t9 = sm.jsma(model, env.x, 9)\n",
    "    env.adv_df = df.deepfool(model, env.x)"
   ]
  },
  {
   "cell_type": "markdown",
   "metadata": {},
   "source": [
    "## 3. Training the model\n",
    "We feed batches from the train part of the dataset to our model and check the accuracy against the train batches and the test part of the dataset.\n",
    "\n",
    "We will train the model for *n_epoch* number of epoches, with batches of *BATCH_SIZE* images. (These parameters can be adjusted if wanted)\n",
    "\n",
    "The model is loaded from the provided model if *LoadModel* is set to True. The model can be saved if the flag *SaveModel* is set to True."
   ]
  },
  {
   "cell_type": "code",
   "execution_count": 35,
   "metadata": {},
   "outputs": [],
   "source": [
    "LoadModel = True\n",
    "SaveModel = False\n",
    "n_epochs = 30\n",
    "BATCH_SIZE = 100"
   ]
  },
  {
   "cell_type": "markdown",
   "metadata": {},
   "source": [
    "And now we run the training process:"
   ]
  },
  {
   "cell_type": "code",
   "execution_count": 34,
   "metadata": {},
   "outputs": [
    {
     "name": "stdout",
     "output_type": "stream",
     "text": [
      "[ 1 ] Train accuracy: 0.572109092399 Test accuracy: 0.7274\n",
      "[ 2 ] Train accuracy: 0.751909090281 Test accuracy: 0.7499\n",
      "[ 3 ] Train accuracy: 0.773909087831 Test accuracy: 0.7739\n",
      "[ 4 ] Train accuracy: 0.792745452469 Test accuracy: 0.7847\n",
      "[ 5 ] Train accuracy: 0.809927269871 Test accuracy: 0.8042\n",
      "[ 6 ] Train accuracy: 0.823090907769 Test accuracy: 0.8112\n",
      "[ 7 ] Train accuracy: 0.834036362388 Test accuracy: 0.8238\n",
      "[ 8 ] Train accuracy: 0.841545454155 Test accuracy: 0.8314\n",
      "[ 9 ] Train accuracy: 0.847745453228 Test accuracy: 0.8402\n",
      "[ 10 ] Train accuracy: 0.853418180617 Test accuracy: 0.8465\n",
      "[ 11 ] Train accuracy: 0.857454544089 Test accuracy: 0.8469\n",
      "[ 12 ] Train accuracy: 0.861327271678 Test accuracy: 0.8519\n",
      "[ 13 ] Train accuracy: 0.864800000082 Test accuracy: 0.8512\n",
      "[ 14 ] Train accuracy: 0.867927272103 Test accuracy: 0.8553\n",
      "[ 15 ] Train accuracy: 0.870400000811 Test accuracy: 0.8581\n",
      "[ 16 ] Train accuracy: 0.874309089834 Test accuracy: 0.8637\n",
      "[ 17 ] Train accuracy: 0.876200000048 Test accuracy: 0.8616\n",
      "[ 18 ] Train accuracy: 0.878436364586 Test accuracy: 0.8653\n",
      "[ 19 ] Train accuracy: 0.882090910565 Test accuracy: 0.867\n",
      "[ 20 ] Train accuracy: 0.883927272341 Test accuracy: 0.8695\n",
      "[ 21 ] Train accuracy: 0.885018181151 Test accuracy: 0.8691\n",
      "[ 22 ] Train accuracy: 0.88739999977 Test accuracy: 0.8732\n",
      "[ 23 ] Train accuracy: 0.888036363775 Test accuracy: 0.8733\n",
      "[ 24 ] Train accuracy: 0.888327271722 Test accuracy: 0.8767\n",
      "[ 25 ] Train accuracy: 0.891272726818 Test accuracy: 0.8767\n",
      "[ 26 ] Train accuracy: 0.892654544765 Test accuracy: 0.8791\n",
      "[ 27 ] Train accuracy: 0.894927273013 Test accuracy: 0.8838\n",
      "[ 28 ] Train accuracy: 0.895799999779 Test accuracy: 0.8848\n",
      "[ 29 ] Train accuracy: 0.89718181751 Test accuracy: 0.8819\n",
      "[ 30 ] Train accuracy: 0.898254545602 Test accuracy: 0.8837\n"
     ]
    }
   ],
   "source": [
    "n_train = X_train.shape[0]\n",
    "n_batch = int(np.ceil(n_train/BATCH_SIZE))\n",
    "\n",
    "sess = tf.Session(config=config)\n",
    "with sess.as_default():\n",
    "    if LoadModel:\n",
    "        saver.restore(sess, \"./fashion_mnist_cnn.model\")\n",
    "        print(\"Model loaded!\")\n",
    "    else:\n",
    "        sess.run(tf.global_variables_initializer())\n",
    "        sess.run(tf.local_variables_initializer())\n",
    "        for epoch in range(n_epochs):\n",
    "            acc_train = 0.0\n",
    "            for iteration in range(n_batch):\n",
    "                start, end = get_start_end(iteration, BATCH_SIZE, n_train)\n",
    "                sess.run(env.optimizer, feed_dict={env.x: X_train[start:end], env.y: y_train[start:end], env.training: True})\n",
    "                acc_train += accuracy.eval(feed_dict={env.x: X_train[start:end], env.y: y_train[start:end], env.training: False})\n",
    "\n",
    "            acc_train = (acc_train / float(n_batch))\n",
    "\n",
    "            acc_test = accuracy.eval(feed_dict={env.x: X_test, env.y: y_test, env.training: False})\n",
    "            print(\"[\", epoch+1, \"] Train accuracy:\", acc_train, \"Test accuracy:\", acc_test)"
   ]
  },
  {
   "cell_type": "code",
   "execution_count": 36,
   "metadata": {},
   "outputs": [
    {
     "name": "stdout",
     "output_type": "stream",
     "text": [
      "Model saved!\n"
     ]
    }
   ],
   "source": [
    "if SaveModel:\n",
    "    save_path = saver.save(sess, \"./fashion_mnist_cnn.model\")\n",
    "    print(\"Model saved!\")"
   ]
  },
  {
   "cell_type": "markdown",
   "metadata": {},
   "source": [
    "## 4. Generating the adversarial examples\n",
    "We will test the two adversarial attack types:\n",
    "* Untargeted attacks (FGM and DeepFool)\n",
    "* Targeted attacks (JSMA)\n",
    "\n",
    "The methods used for generating adversarial examples for these attacks will be:\n",
    "* Fast Gradient Method (SGM)\n",
    "* Jacobian-based Saliency Map Approach (JSMA)\n",
    "* DeepFool"
   ]
  },
  {
   "cell_type": "markdown",
   "metadata": {},
   "source": [
    "We will generate the adversarial test batches to test the accuracy:"
   ]
  },
  {
   "cell_type": "code",
   "execution_count": 37,
   "metadata": {},
   "outputs": [],
   "source": [
    "with sess.as_default():\n",
    "    adv_test_fgm = sess.run(env.adv_fgm, feed_dict={env.x: X_test, env.y: y_test, env.training: False})\n",
    "    adv_test_jsma = sess.run(env.adv_jsma_t0, feed_dict={env.x: X_test, env.y: y_test, env.training: False})\n",
    "    adv_test_df = sess.run(env.adv_df, feed_dict={env.x: X_test, env.y: y_test, env.training: False})"
   ]
  },
  {
   "cell_type": "markdown",
   "metadata": {},
   "source": [
    "We will also define a wrapper function for later use in the visual testing part:"
   ]
  },
  {
   "cell_type": "code",
   "execution_count": 38,
   "metadata": {},
   "outputs": [],
   "source": [
    "def SELECT_JSMA(target_class):\n",
    "    if (target_class == 1): return env.adv_jsma_t1\n",
    "    elif (target_class == 2): return env.adv_jsma_t2\n",
    "    elif (target_class == 3): return env.adv_jsma_t3\n",
    "    elif (target_class == 4): return env.adv_jsma_t4\n",
    "    elif (target_class == 5): return env.adv_jsma_t5\n",
    "    elif (target_class == 6): return env.adv_jsma_t6\n",
    "    elif (target_class == 7): return env.adv_jsma_t7\n",
    "    elif (target_class == 8): return env.adv_jsma_t8\n",
    "    elif (target_class == 9): return env.adv_jsma_t9\n",
    "    else: return env.adv_jsma_t0"
   ]
  },
  {
   "cell_type": "markdown",
   "metadata": {},
   "source": [
    "## 5. Validation\n",
    "We will test the result of the adversarial attacks, these tests will consist on:\n",
    "* Visual testing (to see what happens to the images and what our CNN predicts as the most probable class)\n",
    "* Accuracy testing (to see the results to the CNN predictions)"
   ]
  },
  {
   "cell_type": "markdown",
   "metadata": {},
   "source": [
    "### Visual testing\n",
    "We will see what the CNN predicts with an image subject to the selected adversarial attacks. We can modify the *test_target* variable to choose different images."
   ]
  },
  {
   "cell_type": "code",
   "execution_count": 39,
   "metadata": {},
   "outputs": [],
   "source": [
    "# We select the image we want to test with:\n",
    "target_test = 32\n",
    "target_image = X_test[target_test-1:target_test]\n",
    "target_label = y_test[target_test-1:target_test]"
   ]
  },
  {
   "cell_type": "markdown",
   "metadata": {},
   "source": [
    "##### Prediction with unaltered image"
   ]
  },
  {
   "cell_type": "code",
   "execution_count": 40,
   "metadata": {},
   "outputs": [
    {
     "name": "stdout",
     "output_type": "stream",
     "text": [
      "y = 8 [0 0 0 0 0 0 0 0 1 0] (Bag)\n"
     ]
    },
    {
     "data": {
      "image/png": "[encoded data removed]",
      "text/plain": [
       "<matplotlib.figure.Figure at 0x1b8d4c9acf8>"
      ]
     },
     "metadata": {},
     "output_type": "display_data"
    },
    {
     "name": "stdout",
     "output_type": "stream",
     "text": [
      "Predicted = 8 (Bag)\n"
     ]
    }
   ],
   "source": [
    "# Predict with normal test image:\n",
    "with sess.as_default():\n",
    "    best = sess.run(predictedz, feed_dict={env.x: target_image, env.training: False})\n",
    "    print(\"y = {label_index} {label_vec} ({label})\".format(label_index=np.argmax(target_label[0], axis=0), label_vec=target_label[0], label=label_dict[np.argmax(target_label[0], axis=0)]))\n",
    "    plt.imshow(target_image[0].reshape(28,28), cmap='Greys')\n",
    "    plt.show()\n",
    "    print(\"Predicted = \"+str(best[0])+\" (\"+str(label_dict[best[0]])+\")\")"
   ]
  },
  {
   "cell_type": "markdown",
   "metadata": {},
   "source": [
    "##### Prediction with an image subjected to a untargeted FGM attack"
   ]
  },
  {
   "cell_type": "code",
   "execution_count": 41,
   "metadata": {},
   "outputs": [
    {
     "name": "stdout",
     "output_type": "stream",
     "text": [
      "y = 8 [0 0 0 0 0 0 0 0 1 0] (Bag)\n"
     ]
    },
    {
     "data": {
      "image/png": "[encoded data removed]",
      "text/plain": [
       "<matplotlib.figure.Figure at 0x1b8ade95cc0>"
      ]
     },
     "metadata": {},
     "output_type": "display_data"
    },
    {
     "name": "stdout",
     "output_type": "stream",
     "text": [
      "Predicted = 1 (Trouser)\n"
     ]
    }
   ],
   "source": [
    "# Try to predict with untargeted FGM attack\n",
    "with sess.as_default():\n",
    "    res = sess.run(env.adv_fgm, feed_dict={env.x: target_image})\n",
    "    best = sess.run(predictedz, feed_dict={env.x: res, env.training: False})\n",
    "    print(\"y = {label_index} {label_vec} ({label})\".format(label_index=np.argmax(target_label[0], axis=0), label_vec=target_label[0], label=label_dict[np.argmax(target_label[0], axis=0)]))\n",
    "    plt.imshow(res.reshape(28,28), cmap='Greys')\n",
    "    plt.show()\n",
    "    print(\"Predicted = \"+str(best[0])+\" (\"+str(label_dict[best[0]])+\")\")"
   ]
  },
  {
   "cell_type": "markdown",
   "metadata": {},
   "source": [
    "##### Prediction with an image subjected to a targeted* JSMA attack\n",
    "\n",
    "*Change target_class to select the target class."
   ]
  },
  {
   "cell_type": "code",
   "execution_count": 47,
   "metadata": {},
   "outputs": [
    {
     "name": "stdout",
     "output_type": "stream",
     "text": [
      "y = 8 [0 0 0 0 0 0 0 0 1 0] (Bag)\n"
     ]
    },
    {
     "data": {
      "image/png": "[encoded data removed]",
      "text/plain": [
       "<matplotlib.figure.Figure at 0x1b8a6831470>"
      ]
     },
     "metadata": {},
     "output_type": "display_data"
    },
    {
     "name": "stdout",
     "output_type": "stream",
     "text": [
      "Predicted = 5 (Sandal)\n"
     ]
    }
   ],
   "source": [
    "# Try to predict with targeted JSMA attack\n",
    "\n",
    "# We can change target_class to direct the JSMA attack to that class\n",
    "target_class = 0\n",
    "\n",
    "with sess.as_default():\n",
    "    res = sess.run(SELECT_JSMA(target_class), feed_dict={env.x: target_image})\n",
    "    best = sess.run(predictedz, feed_dict={env.x: res, env.training: False})\n",
    "    print(\"y = {label_index} {label_vec} ({label})\".format(label_index=np.argmax(target_label[0], axis=0), label_vec=target_label[0], label=label_dict[np.argmax(target_label[0], axis=0)]))\n",
    "    plt.imshow(res.reshape(28,28), cmap='Greys')\n",
    "    plt.show()\n",
    "    print(\"Predicted = \"+str(best[0])+\" (\"+str(label_dict[best[0]])+\")\")"
   ]
  },
  {
   "cell_type": "markdown",
   "metadata": {},
   "source": [
    "##### Prediction with an image subjected to a untargeted DeepFool attack"
   ]
  },
  {
   "cell_type": "code",
   "execution_count": 43,
   "metadata": {},
   "outputs": [
    {
     "name": "stdout",
     "output_type": "stream",
     "text": [
      "y = 8 [0 0 0 0 0 0 0 0 1 0] (Bag)\n"
     ]
    },
    {
     "data": {
      "image/png": "[encoded data removed]",
      "text/plain": [
       "<matplotlib.figure.Figure at 0x1b8d4c9ada0>"
      ]
     },
     "metadata": {},
     "output_type": "display_data"
    },
    {
     "name": "stdout",
     "output_type": "stream",
     "text": [
      "Predicted = 0 (T-shirt/top)\n"
     ]
    }
   ],
   "source": [
    "# Try to predict with untargeted DeepFool attack\n",
    "with sess.as_default():\n",
    "    res = sess.run(env.adv_df, feed_dict={env.x: target_image})\n",
    "    best = sess.run(predictedz, feed_dict={env.x: res, env.training: False})\n",
    "    print(\"y = {label_index} {label_vec} ({label})\".format(label_index=np.argmax(target_label[0], axis=0), label_vec=target_label[0], label=label_dict[np.argmax(target_label[0], axis=0)]))\n",
    "    plt.imshow(res.reshape(28,28), cmap='Greys')\n",
    "    plt.show()\n",
    "    print(\"Predicted = \"+str(best[0])+\" (\"+str(label_dict[best[0]])+\")\")"
   ]
  },
  {
   "cell_type": "markdown",
   "metadata": {},
   "source": [
    "### Accuracy testing\n",
    "We will test with the previously crafted adversarial test examples to see the CNNs accuracy:"
   ]
  },
  {
   "cell_type": "code",
   "execution_count": 44,
   "metadata": {},
   "outputs": [
    {
     "name": "stdout",
     "output_type": "stream",
     "text": [
      "Test accuracy: 0.8837\n",
      "Test accuracy for adversarial FGM examples: 0.0565\n",
      "Test accuracy for adversarial JSMA examples: 0.122\n",
      "Test accuracy for adversarial DeepFool examples: 0.0514\n"
     ]
    }
   ],
   "source": [
    "with sess.as_default():\n",
    "    acc = accuracy.eval(feed_dict={env.x: X_test, env.y: y_test, env.training: False})\n",
    "    acc_adv_fgm = accuracy.eval(feed_dict={env.x: adv_test_fgm, env.y: y_test, env.training: False})\n",
    "    acc_adv_jsma = accuracy.eval(feed_dict={env.x: adv_test_jsma, env.y: y_test, env.training: False})\n",
    "    acc_adv_df = accuracy.eval(feed_dict={env.x: adv_test_df, env.y: y_test, env.training: False})\n",
    "    \n",
    "    print(\"Test accuracy:\", acc)\n",
    "    print(\"Test accuracy for adversarial FGM examples:\", acc_adv_fgm)\n",
    "    print(\"Test accuracy for adversarial JSMA examples:\", acc_adv_jsma)\n",
    "    print(\"Test accuracy for adversarial DeepFool examples:\", acc_adv_df)"
   ]
  },
  {
   "cell_type": "code",
   "execution_count": null,
   "metadata": {},
   "outputs": [],
   "source": []
  }
 ],
 "metadata": {
  "kernelspec": {
   "display_name": "Python 3",
   "language": "python",
   "name": "python3"
  },
  "language_info": {
   "codemirror_mode": {
    "name": "ipython",
    "version": 3
   },
   "file_extension": ".py",
   "mimetype": "text/x-python",
   "name": "python",
   "nbconvert_exporter": "python",
   "pygments_lexer": "ipython3",
   "version": "3.6.2"
  }
 },
 "nbformat": 4,
 "nbformat_minor": 2
}
